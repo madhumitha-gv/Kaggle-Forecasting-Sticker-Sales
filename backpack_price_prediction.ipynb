{
 "cells": [
  {
   "cell_type": "code",
   "execution_count": 1,
   "id": "5284b71d",
   "metadata": {
    "_cell_guid": "b1076dfc-b9ad-4769-8c92-a6c4dae69d19",
    "_uuid": "8f2839f25d086af736a60e9eeb907d3b93b6e0e5",
    "execution": {
     "iopub.execute_input": "2025-03-01T00:56:32.869295Z",
     "iopub.status.busy": "2025-03-01T00:56:32.869043Z",
     "iopub.status.idle": "2025-03-01T00:56:33.615755Z",
     "shell.execute_reply": "2025-03-01T00:56:33.614662Z"
    },
    "papermill": {
     "duration": 0.755559,
     "end_time": "2025-03-01T00:56:33.617322",
     "exception": false,
     "start_time": "2025-03-01T00:56:32.861763",
     "status": "completed"
    },
    "tags": []
   },
   "outputs": [
    {
     "name": "stdout",
     "output_type": "stream",
     "text": [
      "/kaggle/input/playground-series-s5e2/sample_submission.csv\n",
      "/kaggle/input/playground-series-s5e2/train.csv\n",
      "/kaggle/input/playground-series-s5e2/test.csv\n",
      "/kaggle/input/playground-series-s5e2/training_extra.csv\n"
     ]
    }
   ],
   "source": [
    "# This Python 3 environment comes with many helpful analytics libraries installed\n",
    "# It is defined by the kaggle/python Docker image: https://github.com/kaggle/docker-python\n",
    "# For example, here's several helpful packages to load\n",
    "\n",
    "import numpy as np # linear algebra\n",
    "import pandas as pd # data processing, CSV file I/O (e.g. pd.read_csv)\n",
    "\n",
    "# Input data files are available in the read-only \"../input/\" directory\n",
    "# For example, running this (by clicking run or pressing Shift+Enter) will list all files under the input directory\n",
    "\n",
    "import os\n",
    "for dirname, _, filenames in os.walk('/kaggle/input'):\n",
    "    for filename in filenames:\n",
    "        print(os.path.join(dirname, filename))\n",
    "\n",
    "# You can write up to 20GB to the current directory (/kaggle/working/) that gets preserved as output when you create a version using \"Save & Run All\" \n",
    "# You can also write temporary files to /kaggle/temp/, but they won't be saved outside of the current session"
   ]
  },
  {
   "cell_type": "code",
   "execution_count": 2,
   "id": "de0e3f16",
   "metadata": {
    "execution": {
     "iopub.execute_input": "2025-03-01T00:56:33.630296Z",
     "iopub.status.busy": "2025-03-01T00:56:33.629955Z",
     "iopub.status.idle": "2025-03-01T00:56:33.633317Z",
     "shell.execute_reply": "2025-03-01T00:56:33.632519Z"
    },
    "papermill": {
     "duration": 0.010976,
     "end_time": "2025-03-01T00:56:33.634574",
     "exception": false,
     "start_time": "2025-03-01T00:56:33.623598",
     "status": "completed"
    },
    "tags": []
   },
   "outputs": [],
   "source": [
    "import pandas as pd\n",
    "import numpy as np\n"
   ]
  },
  {
   "cell_type": "code",
   "execution_count": 3,
   "id": "d21adfb1",
   "metadata": {
    "execution": {
     "iopub.execute_input": "2025-03-01T00:56:33.647136Z",
     "iopub.status.busy": "2025-03-01T00:56:33.646899Z",
     "iopub.status.idle": "2025-03-01T00:56:34.628007Z",
     "shell.execute_reply": "2025-03-01T00:56:34.627162Z"
    },
    "papermill": {
     "duration": 0.988938,
     "end_time": "2025-03-01T00:56:34.629547",
     "exception": false,
     "start_time": "2025-03-01T00:56:33.640609",
     "status": "completed"
    },
    "tags": []
   },
   "outputs": [],
   "source": [
    "df_train=pd.read_csv('/kaggle/input/playground-series-s5e2/train.csv')\n",
    "df_test=pd.read_csv('/kaggle/input/playground-series-s5e2/test.csv')"
   ]
  },
  {
   "cell_type": "code",
   "execution_count": 4,
   "id": "42e00ee3",
   "metadata": {
    "execution": {
     "iopub.execute_input": "2025-03-01T00:56:34.642268Z",
     "iopub.status.busy": "2025-03-01T00:56:34.642035Z",
     "iopub.status.idle": "2025-03-01T00:56:34.667362Z",
     "shell.execute_reply": "2025-03-01T00:56:34.666551Z"
    },
    "papermill": {
     "duration": 0.033029,
     "end_time": "2025-03-01T00:56:34.668617",
     "exception": false,
     "start_time": "2025-03-01T00:56:34.635588",
     "status": "completed"
    },
    "tags": []
   },
   "outputs": [
    {
     "data": {
      "text/html": [
       "<div>\n",
       "<style scoped>\n",
       "    .dataframe tbody tr th:only-of-type {\n",
       "        vertical-align: middle;\n",
       "    }\n",
       "\n",
       "    .dataframe tbody tr th {\n",
       "        vertical-align: top;\n",
       "    }\n",
       "\n",
       "    .dataframe thead th {\n",
       "        text-align: right;\n",
       "    }\n",
       "</style>\n",
       "<table border=\"1\" class=\"dataframe\">\n",
       "  <thead>\n",
       "    <tr style=\"text-align: right;\">\n",
       "      <th></th>\n",
       "      <th>id</th>\n",
       "      <th>Brand</th>\n",
       "      <th>Material</th>\n",
       "      <th>Size</th>\n",
       "      <th>Compartments</th>\n",
       "      <th>Laptop Compartment</th>\n",
       "      <th>Waterproof</th>\n",
       "      <th>Style</th>\n",
       "      <th>Color</th>\n",
       "      <th>Weight Capacity (kg)</th>\n",
       "      <th>Price</th>\n",
       "    </tr>\n",
       "  </thead>\n",
       "  <tbody>\n",
       "    <tr>\n",
       "      <th>0</th>\n",
       "      <td>0</td>\n",
       "      <td>Jansport</td>\n",
       "      <td>Leather</td>\n",
       "      <td>Medium</td>\n",
       "      <td>7.0</td>\n",
       "      <td>Yes</td>\n",
       "      <td>No</td>\n",
       "      <td>Tote</td>\n",
       "      <td>Black</td>\n",
       "      <td>11.611723</td>\n",
       "      <td>112.15875</td>\n",
       "    </tr>\n",
       "    <tr>\n",
       "      <th>1</th>\n",
       "      <td>1</td>\n",
       "      <td>Jansport</td>\n",
       "      <td>Canvas</td>\n",
       "      <td>Small</td>\n",
       "      <td>10.0</td>\n",
       "      <td>Yes</td>\n",
       "      <td>Yes</td>\n",
       "      <td>Messenger</td>\n",
       "      <td>Green</td>\n",
       "      <td>27.078537</td>\n",
       "      <td>68.88056</td>\n",
       "    </tr>\n",
       "    <tr>\n",
       "      <th>2</th>\n",
       "      <td>2</td>\n",
       "      <td>Under Armour</td>\n",
       "      <td>Leather</td>\n",
       "      <td>Small</td>\n",
       "      <td>2.0</td>\n",
       "      <td>Yes</td>\n",
       "      <td>No</td>\n",
       "      <td>Messenger</td>\n",
       "      <td>Red</td>\n",
       "      <td>16.643760</td>\n",
       "      <td>39.17320</td>\n",
       "    </tr>\n",
       "    <tr>\n",
       "      <th>3</th>\n",
       "      <td>3</td>\n",
       "      <td>Nike</td>\n",
       "      <td>Nylon</td>\n",
       "      <td>Small</td>\n",
       "      <td>8.0</td>\n",
       "      <td>Yes</td>\n",
       "      <td>No</td>\n",
       "      <td>Messenger</td>\n",
       "      <td>Green</td>\n",
       "      <td>12.937220</td>\n",
       "      <td>80.60793</td>\n",
       "    </tr>\n",
       "    <tr>\n",
       "      <th>4</th>\n",
       "      <td>4</td>\n",
       "      <td>Adidas</td>\n",
       "      <td>Canvas</td>\n",
       "      <td>Medium</td>\n",
       "      <td>1.0</td>\n",
       "      <td>Yes</td>\n",
       "      <td>Yes</td>\n",
       "      <td>Messenger</td>\n",
       "      <td>Green</td>\n",
       "      <td>17.749338</td>\n",
       "      <td>86.02312</td>\n",
       "    </tr>\n",
       "  </tbody>\n",
       "</table>\n",
       "</div>"
      ],
      "text/plain": [
       "   id         Brand Material    Size  Compartments Laptop Compartment  \\\n",
       "0   0      Jansport  Leather  Medium           7.0                Yes   \n",
       "1   1      Jansport   Canvas   Small          10.0                Yes   \n",
       "2   2  Under Armour  Leather   Small           2.0                Yes   \n",
       "3   3          Nike    Nylon   Small           8.0                Yes   \n",
       "4   4        Adidas   Canvas  Medium           1.0                Yes   \n",
       "\n",
       "  Waterproof      Style  Color  Weight Capacity (kg)      Price  \n",
       "0         No       Tote  Black             11.611723  112.15875  \n",
       "1        Yes  Messenger  Green             27.078537   68.88056  \n",
       "2         No  Messenger    Red             16.643760   39.17320  \n",
       "3         No  Messenger  Green             12.937220   80.60793  \n",
       "4        Yes  Messenger  Green             17.749338   86.02312  "
      ]
     },
     "execution_count": 4,
     "metadata": {},
     "output_type": "execute_result"
    }
   ],
   "source": [
    "df_train.head(5)"
   ]
  },
  {
   "cell_type": "code",
   "execution_count": 5,
   "id": "34224f3b",
   "metadata": {
    "execution": {
     "iopub.execute_input": "2025-03-01T00:56:34.681331Z",
     "iopub.status.busy": "2025-03-01T00:56:34.681103Z",
     "iopub.status.idle": "2025-03-01T00:56:34.691657Z",
     "shell.execute_reply": "2025-03-01T00:56:34.690882Z"
    },
    "papermill": {
     "duration": 0.018255,
     "end_time": "2025-03-01T00:56:34.692936",
     "exception": false,
     "start_time": "2025-03-01T00:56:34.674681",
     "status": "completed"
    },
    "tags": []
   },
   "outputs": [
    {
     "data": {
      "text/html": [
       "<div>\n",
       "<style scoped>\n",
       "    .dataframe tbody tr th:only-of-type {\n",
       "        vertical-align: middle;\n",
       "    }\n",
       "\n",
       "    .dataframe tbody tr th {\n",
       "        vertical-align: top;\n",
       "    }\n",
       "\n",
       "    .dataframe thead th {\n",
       "        text-align: right;\n",
       "    }\n",
       "</style>\n",
       "<table border=\"1\" class=\"dataframe\">\n",
       "  <thead>\n",
       "    <tr style=\"text-align: right;\">\n",
       "      <th></th>\n",
       "      <th>id</th>\n",
       "      <th>Brand</th>\n",
       "      <th>Material</th>\n",
       "      <th>Size</th>\n",
       "      <th>Compartments</th>\n",
       "      <th>Laptop Compartment</th>\n",
       "      <th>Waterproof</th>\n",
       "      <th>Style</th>\n",
       "      <th>Color</th>\n",
       "      <th>Weight Capacity (kg)</th>\n",
       "    </tr>\n",
       "  </thead>\n",
       "  <tbody>\n",
       "    <tr>\n",
       "      <th>0</th>\n",
       "      <td>300000</td>\n",
       "      <td>Puma</td>\n",
       "      <td>Leather</td>\n",
       "      <td>Small</td>\n",
       "      <td>2.0</td>\n",
       "      <td>No</td>\n",
       "      <td>No</td>\n",
       "      <td>Tote</td>\n",
       "      <td>Green</td>\n",
       "      <td>20.671147</td>\n",
       "    </tr>\n",
       "    <tr>\n",
       "      <th>1</th>\n",
       "      <td>300001</td>\n",
       "      <td>Nike</td>\n",
       "      <td>Canvas</td>\n",
       "      <td>Medium</td>\n",
       "      <td>7.0</td>\n",
       "      <td>No</td>\n",
       "      <td>Yes</td>\n",
       "      <td>Backpack</td>\n",
       "      <td>Green</td>\n",
       "      <td>13.564105</td>\n",
       "    </tr>\n",
       "    <tr>\n",
       "      <th>2</th>\n",
       "      <td>300002</td>\n",
       "      <td>Adidas</td>\n",
       "      <td>Canvas</td>\n",
       "      <td>Large</td>\n",
       "      <td>9.0</td>\n",
       "      <td>No</td>\n",
       "      <td>Yes</td>\n",
       "      <td>Messenger</td>\n",
       "      <td>Blue</td>\n",
       "      <td>11.809799</td>\n",
       "    </tr>\n",
       "    <tr>\n",
       "      <th>3</th>\n",
       "      <td>300003</td>\n",
       "      <td>Adidas</td>\n",
       "      <td>Nylon</td>\n",
       "      <td>Large</td>\n",
       "      <td>1.0</td>\n",
       "      <td>Yes</td>\n",
       "      <td>No</td>\n",
       "      <td>Messenger</td>\n",
       "      <td>Green</td>\n",
       "      <td>18.477036</td>\n",
       "    </tr>\n",
       "    <tr>\n",
       "      <th>4</th>\n",
       "      <td>300004</td>\n",
       "      <td>NaN</td>\n",
       "      <td>Nylon</td>\n",
       "      <td>Large</td>\n",
       "      <td>2.0</td>\n",
       "      <td>Yes</td>\n",
       "      <td>Yes</td>\n",
       "      <td>Tote</td>\n",
       "      <td>Black</td>\n",
       "      <td>9.907953</td>\n",
       "    </tr>\n",
       "  </tbody>\n",
       "</table>\n",
       "</div>"
      ],
      "text/plain": [
       "       id   Brand Material    Size  Compartments Laptop Compartment  \\\n",
       "0  300000    Puma  Leather   Small           2.0                 No   \n",
       "1  300001    Nike   Canvas  Medium           7.0                 No   \n",
       "2  300002  Adidas   Canvas   Large           9.0                 No   \n",
       "3  300003  Adidas    Nylon   Large           1.0                Yes   \n",
       "4  300004     NaN    Nylon   Large           2.0                Yes   \n",
       "\n",
       "  Waterproof      Style  Color  Weight Capacity (kg)  \n",
       "0         No       Tote  Green             20.671147  \n",
       "1        Yes   Backpack  Green             13.564105  \n",
       "2        Yes  Messenger   Blue             11.809799  \n",
       "3         No  Messenger  Green             18.477036  \n",
       "4        Yes       Tote  Black              9.907953  "
      ]
     },
     "execution_count": 5,
     "metadata": {},
     "output_type": "execute_result"
    }
   ],
   "source": [
    "df_test.head(5)"
   ]
  },
  {
   "cell_type": "code",
   "execution_count": 6,
   "id": "e8b0db96",
   "metadata": {
    "execution": {
     "iopub.execute_input": "2025-03-01T00:56:34.705915Z",
     "iopub.status.busy": "2025-03-01T00:56:34.705657Z",
     "iopub.status.idle": "2025-03-01T00:56:34.770127Z",
     "shell.execute_reply": "2025-03-01T00:56:34.769284Z"
    },
    "papermill": {
     "duration": 0.072274,
     "end_time": "2025-03-01T00:56:34.771380",
     "exception": false,
     "start_time": "2025-03-01T00:56:34.699106",
     "status": "completed"
    },
    "tags": []
   },
   "outputs": [
    {
     "data": {
      "text/html": [
       "<div>\n",
       "<style scoped>\n",
       "    .dataframe tbody tr th:only-of-type {\n",
       "        vertical-align: middle;\n",
       "    }\n",
       "\n",
       "    .dataframe tbody tr th {\n",
       "        vertical-align: top;\n",
       "    }\n",
       "\n",
       "    .dataframe thead th {\n",
       "        text-align: right;\n",
       "    }\n",
       "</style>\n",
       "<table border=\"1\" class=\"dataframe\">\n",
       "  <thead>\n",
       "    <tr style=\"text-align: right;\">\n",
       "      <th></th>\n",
       "      <th>id</th>\n",
       "      <th>Compartments</th>\n",
       "      <th>Weight Capacity (kg)</th>\n",
       "      <th>Price</th>\n",
       "    </tr>\n",
       "  </thead>\n",
       "  <tbody>\n",
       "    <tr>\n",
       "      <th>count</th>\n",
       "      <td>300000.000000</td>\n",
       "      <td>300000.000000</td>\n",
       "      <td>299862.000000</td>\n",
       "      <td>300000.000000</td>\n",
       "    </tr>\n",
       "    <tr>\n",
       "      <th>mean</th>\n",
       "      <td>149999.500000</td>\n",
       "      <td>5.443590</td>\n",
       "      <td>18.029994</td>\n",
       "      <td>81.411107</td>\n",
       "    </tr>\n",
       "    <tr>\n",
       "      <th>std</th>\n",
       "      <td>86602.684716</td>\n",
       "      <td>2.890766</td>\n",
       "      <td>6.966914</td>\n",
       "      <td>39.039340</td>\n",
       "    </tr>\n",
       "    <tr>\n",
       "      <th>min</th>\n",
       "      <td>0.000000</td>\n",
       "      <td>1.000000</td>\n",
       "      <td>5.000000</td>\n",
       "      <td>15.000000</td>\n",
       "    </tr>\n",
       "    <tr>\n",
       "      <th>25%</th>\n",
       "      <td>74999.750000</td>\n",
       "      <td>3.000000</td>\n",
       "      <td>12.097867</td>\n",
       "      <td>47.384620</td>\n",
       "    </tr>\n",
       "    <tr>\n",
       "      <th>50%</th>\n",
       "      <td>149999.500000</td>\n",
       "      <td>5.000000</td>\n",
       "      <td>18.068614</td>\n",
       "      <td>80.956120</td>\n",
       "    </tr>\n",
       "    <tr>\n",
       "      <th>75%</th>\n",
       "      <td>224999.250000</td>\n",
       "      <td>8.000000</td>\n",
       "      <td>24.002375</td>\n",
       "      <td>115.018160</td>\n",
       "    </tr>\n",
       "    <tr>\n",
       "      <th>max</th>\n",
       "      <td>299999.000000</td>\n",
       "      <td>10.000000</td>\n",
       "      <td>30.000000</td>\n",
       "      <td>150.000000</td>\n",
       "    </tr>\n",
       "  </tbody>\n",
       "</table>\n",
       "</div>"
      ],
      "text/plain": [
       "                  id   Compartments  Weight Capacity (kg)          Price\n",
       "count  300000.000000  300000.000000         299862.000000  300000.000000\n",
       "mean   149999.500000       5.443590             18.029994      81.411107\n",
       "std     86602.684716       2.890766              6.966914      39.039340\n",
       "min         0.000000       1.000000              5.000000      15.000000\n",
       "25%     74999.750000       3.000000             12.097867      47.384620\n",
       "50%    149999.500000       5.000000             18.068614      80.956120\n",
       "75%    224999.250000       8.000000             24.002375     115.018160\n",
       "max    299999.000000      10.000000             30.000000     150.000000"
      ]
     },
     "execution_count": 6,
     "metadata": {},
     "output_type": "execute_result"
    }
   ],
   "source": [
    "df_train.describe()"
   ]
  },
  {
   "cell_type": "code",
   "execution_count": 7,
   "id": "50c4e4f3",
   "metadata": {
    "execution": {
     "iopub.execute_input": "2025-03-01T00:56:34.784707Z",
     "iopub.status.busy": "2025-03-01T00:56:34.784475Z",
     "iopub.status.idle": "2025-03-01T00:56:34.814542Z",
     "shell.execute_reply": "2025-03-01T00:56:34.813756Z"
    },
    "papermill": {
     "duration": 0.038113,
     "end_time": "2025-03-01T00:56:34.815900",
     "exception": false,
     "start_time": "2025-03-01T00:56:34.777787",
     "status": "completed"
    },
    "tags": []
   },
   "outputs": [
    {
     "data": {
      "text/html": [
       "<div>\n",
       "<style scoped>\n",
       "    .dataframe tbody tr th:only-of-type {\n",
       "        vertical-align: middle;\n",
       "    }\n",
       "\n",
       "    .dataframe tbody tr th {\n",
       "        vertical-align: top;\n",
       "    }\n",
       "\n",
       "    .dataframe thead th {\n",
       "        text-align: right;\n",
       "    }\n",
       "</style>\n",
       "<table border=\"1\" class=\"dataframe\">\n",
       "  <thead>\n",
       "    <tr style=\"text-align: right;\">\n",
       "      <th></th>\n",
       "      <th>id</th>\n",
       "      <th>Compartments</th>\n",
       "      <th>Weight Capacity (kg)</th>\n",
       "    </tr>\n",
       "  </thead>\n",
       "  <tbody>\n",
       "    <tr>\n",
       "      <th>count</th>\n",
       "      <td>200000.000000</td>\n",
       "      <td>200000.000000</td>\n",
       "      <td>199923.000000</td>\n",
       "    </tr>\n",
       "    <tr>\n",
       "      <th>mean</th>\n",
       "      <td>399999.500000</td>\n",
       "      <td>5.442855</td>\n",
       "      <td>17.993033</td>\n",
       "    </tr>\n",
       "    <tr>\n",
       "      <th>std</th>\n",
       "      <td>57735.171256</td>\n",
       "      <td>2.888740</td>\n",
       "      <td>6.972079</td>\n",
       "    </tr>\n",
       "    <tr>\n",
       "      <th>min</th>\n",
       "      <td>300000.000000</td>\n",
       "      <td>1.000000</td>\n",
       "      <td>5.000000</td>\n",
       "    </tr>\n",
       "    <tr>\n",
       "      <th>25%</th>\n",
       "      <td>349999.750000</td>\n",
       "      <td>3.000000</td>\n",
       "      <td>12.068875</td>\n",
       "    </tr>\n",
       "    <tr>\n",
       "      <th>50%</th>\n",
       "      <td>399999.500000</td>\n",
       "      <td>5.000000</td>\n",
       "      <td>18.054750</td>\n",
       "    </tr>\n",
       "    <tr>\n",
       "      <th>75%</th>\n",
       "      <td>449999.250000</td>\n",
       "      <td>8.000000</td>\n",
       "      <td>23.965700</td>\n",
       "    </tr>\n",
       "    <tr>\n",
       "      <th>max</th>\n",
       "      <td>499999.000000</td>\n",
       "      <td>10.000000</td>\n",
       "      <td>30.000000</td>\n",
       "    </tr>\n",
       "  </tbody>\n",
       "</table>\n",
       "</div>"
      ],
      "text/plain": [
       "                  id   Compartments  Weight Capacity (kg)\n",
       "count  200000.000000  200000.000000         199923.000000\n",
       "mean   399999.500000       5.442855             17.993033\n",
       "std     57735.171256       2.888740              6.972079\n",
       "min    300000.000000       1.000000              5.000000\n",
       "25%    349999.750000       3.000000             12.068875\n",
       "50%    399999.500000       5.000000             18.054750\n",
       "75%    449999.250000       8.000000             23.965700\n",
       "max    499999.000000      10.000000             30.000000"
      ]
     },
     "execution_count": 7,
     "metadata": {},
     "output_type": "execute_result"
    }
   ],
   "source": [
    "df_test.describe()"
   ]
  },
  {
   "cell_type": "code",
   "execution_count": 8,
   "id": "5b08edeb",
   "metadata": {
    "execution": {
     "iopub.execute_input": "2025-03-01T00:56:34.829801Z",
     "iopub.status.busy": "2025-03-01T00:56:34.829562Z",
     "iopub.status.idle": "2025-03-01T00:56:34.940206Z",
     "shell.execute_reply": "2025-03-01T00:56:34.939223Z"
    },
    "papermill": {
     "duration": 0.119213,
     "end_time": "2025-03-01T00:56:34.941729",
     "exception": false,
     "start_time": "2025-03-01T00:56:34.822516",
     "status": "completed"
    },
    "tags": []
   },
   "outputs": [
    {
     "name": "stdout",
     "output_type": "stream",
     "text": [
      "<class 'pandas.core.frame.DataFrame'>\n",
      "RangeIndex: 300000 entries, 0 to 299999\n",
      "Data columns (total 11 columns):\n",
      " #   Column                Non-Null Count   Dtype  \n",
      "---  ------                --------------   -----  \n",
      " 0   id                    300000 non-null  int64  \n",
      " 1   Brand                 290295 non-null  object \n",
      " 2   Material              291653 non-null  object \n",
      " 3   Size                  293405 non-null  object \n",
      " 4   Compartments          300000 non-null  float64\n",
      " 5   Laptop Compartment    292556 non-null  object \n",
      " 6   Waterproof            292950 non-null  object \n",
      " 7   Style                 292030 non-null  object \n",
      " 8   Color                 290050 non-null  object \n",
      " 9   Weight Capacity (kg)  299862 non-null  float64\n",
      " 10  Price                 300000 non-null  float64\n",
      "dtypes: float64(3), int64(1), object(7)\n",
      "memory usage: 25.2+ MB\n"
     ]
    }
   ],
   "source": [
    "df_train.info()"
   ]
  },
  {
   "cell_type": "code",
   "execution_count": 9,
   "id": "37ccf6cf",
   "metadata": {
    "execution": {
     "iopub.execute_input": "2025-03-01T00:56:34.956266Z",
     "iopub.status.busy": "2025-03-01T00:56:34.956043Z",
     "iopub.status.idle": "2025-03-01T00:56:35.022474Z",
     "shell.execute_reply": "2025-03-01T00:56:35.021570Z"
    },
    "papermill": {
     "duration": 0.074601,
     "end_time": "2025-03-01T00:56:35.023703",
     "exception": false,
     "start_time": "2025-03-01T00:56:34.949102",
     "status": "completed"
    },
    "tags": []
   },
   "outputs": [
    {
     "name": "stdout",
     "output_type": "stream",
     "text": [
      "<class 'pandas.core.frame.DataFrame'>\n",
      "RangeIndex: 200000 entries, 0 to 199999\n",
      "Data columns (total 10 columns):\n",
      " #   Column                Non-Null Count   Dtype  \n",
      "---  ------                --------------   -----  \n",
      " 0   id                    200000 non-null  int64  \n",
      " 1   Brand                 193773 non-null  object \n",
      " 2   Material              194387 non-null  object \n",
      " 3   Size                  195619 non-null  object \n",
      " 4   Compartments          200000 non-null  float64\n",
      " 5   Laptop Compartment    195038 non-null  object \n",
      " 6   Waterproof            195189 non-null  object \n",
      " 7   Style                 194847 non-null  object \n",
      " 8   Color                 193215 non-null  object \n",
      " 9   Weight Capacity (kg)  199923 non-null  float64\n",
      "dtypes: float64(2), int64(1), object(7)\n",
      "memory usage: 15.3+ MB\n"
     ]
    }
   ],
   "source": [
    "df_test.info()"
   ]
  },
  {
   "cell_type": "code",
   "execution_count": 10,
   "id": "e743d8c1",
   "metadata": {
    "execution": {
     "iopub.execute_input": "2025-03-01T00:56:35.037699Z",
     "iopub.status.busy": "2025-03-01T00:56:35.037448Z",
     "iopub.status.idle": "2025-03-01T00:56:35.042013Z",
     "shell.execute_reply": "2025-03-01T00:56:35.041186Z"
    },
    "papermill": {
     "duration": 0.012741,
     "end_time": "2025-03-01T00:56:35.043316",
     "exception": false,
     "start_time": "2025-03-01T00:56:35.030575",
     "status": "completed"
    },
    "tags": []
   },
   "outputs": [
    {
     "data": {
      "text/plain": [
       "(300000, 11)"
      ]
     },
     "execution_count": 10,
     "metadata": {},
     "output_type": "execute_result"
    }
   ],
   "source": [
    "df_train.shape"
   ]
  },
  {
   "cell_type": "code",
   "execution_count": 11,
   "id": "eb52dae9",
   "metadata": {
    "execution": {
     "iopub.execute_input": "2025-03-01T00:56:35.057177Z",
     "iopub.status.busy": "2025-03-01T00:56:35.056941Z",
     "iopub.status.idle": "2025-03-01T00:56:35.150785Z",
     "shell.execute_reply": "2025-03-01T00:56:35.149929Z"
    },
    "papermill": {
     "duration": 0.101865,
     "end_time": "2025-03-01T00:56:35.152026",
     "exception": false,
     "start_time": "2025-03-01T00:56:35.050161",
     "status": "completed"
    },
    "tags": []
   },
   "outputs": [
    {
     "data": {
      "text/plain": [
       "id                         0\n",
       "Brand                   9705\n",
       "Material                8347\n",
       "Size                    6595\n",
       "Compartments               0\n",
       "Laptop Compartment      7444\n",
       "Waterproof              7050\n",
       "Style                   7970\n",
       "Color                   9950\n",
       "Weight Capacity (kg)     138\n",
       "Price                      0\n",
       "dtype: int64"
      ]
     },
     "execution_count": 11,
     "metadata": {},
     "output_type": "execute_result"
    }
   ],
   "source": [
    "df_train.isnull().sum()"
   ]
  },
  {
   "cell_type": "code",
   "execution_count": 12,
   "id": "f2274ebb",
   "metadata": {
    "execution": {
     "iopub.execute_input": "2025-03-01T00:56:35.166240Z",
     "iopub.status.busy": "2025-03-01T00:56:35.165977Z",
     "iopub.status.idle": "2025-03-01T00:56:35.218106Z",
     "shell.execute_reply": "2025-03-01T00:56:35.217158Z"
    },
    "papermill": {
     "duration": 0.061001,
     "end_time": "2025-03-01T00:56:35.219907",
     "exception": false,
     "start_time": "2025-03-01T00:56:35.158906",
     "status": "completed"
    },
    "tags": []
   },
   "outputs": [],
   "source": [
    "df_train_clean = df_train.dropna(subset=['Laptop Compartment', 'Waterproof'])"
   ]
  },
  {
   "cell_type": "code",
   "execution_count": 13,
   "id": "778a9343",
   "metadata": {
    "execution": {
     "iopub.execute_input": "2025-03-01T00:56:35.235024Z",
     "iopub.status.busy": "2025-03-01T00:56:35.234750Z",
     "iopub.status.idle": "2025-03-01T00:56:35.331228Z",
     "shell.execute_reply": "2025-03-01T00:56:35.330265Z"
    },
    "papermill": {
     "duration": 0.1057,
     "end_time": "2025-03-01T00:56:35.332946",
     "exception": false,
     "start_time": "2025-03-01T00:56:35.227246",
     "status": "completed"
    },
    "tags": []
   },
   "outputs": [
    {
     "data": {
      "text/plain": [
       "id                         0\n",
       "Brand                   9350\n",
       "Material                8098\n",
       "Size                    6369\n",
       "Compartments               0\n",
       "Laptop Compartment         0\n",
       "Waterproof                 0\n",
       "Style                   7735\n",
       "Color                   9464\n",
       "Weight Capacity (kg)      49\n",
       "Price                      0\n",
       "dtype: int64"
      ]
     },
     "execution_count": 13,
     "metadata": {},
     "output_type": "execute_result"
    }
   ],
   "source": [
    "df_train_clean.isnull().sum()"
   ]
  },
  {
   "cell_type": "code",
   "execution_count": 14,
   "id": "60c71dc9",
   "metadata": {
    "execution": {
     "iopub.execute_input": "2025-03-01T00:56:35.351320Z",
     "iopub.status.busy": "2025-03-01T00:56:35.351046Z",
     "iopub.status.idle": "2025-03-01T00:56:35.380977Z",
     "shell.execute_reply": "2025-03-01T00:56:35.380160Z"
    },
    "papermill": {
     "duration": 0.039576,
     "end_time": "2025-03-01T00:56:35.382227",
     "exception": false,
     "start_time": "2025-03-01T00:56:35.342651",
     "status": "completed"
    },
    "tags": []
   },
   "outputs": [
    {
     "data": {
      "text/plain": [
       "Brand\n",
       "Adidas          57185\n",
       "Under Armour    57019\n",
       "Nike            54678\n",
       "Puma            53990\n",
       "Jansport        53380\n",
       "Name: count, dtype: int64"
      ]
     },
     "execution_count": 14,
     "metadata": {},
     "output_type": "execute_result"
    }
   ],
   "source": [
    "unique_brand = df_train_clean['Brand'].unique().tolist()\n",
    "df_train_clean['Brand'].value_counts()"
   ]
  },
  {
   "cell_type": "code",
   "execution_count": 15,
   "id": "80a01e62",
   "metadata": {
    "execution": {
     "iopub.execute_input": "2025-03-01T00:56:35.396940Z",
     "iopub.status.busy": "2025-03-01T00:56:35.396658Z",
     "iopub.status.idle": "2025-03-01T00:56:35.426134Z",
     "shell.execute_reply": "2025-03-01T00:56:35.425434Z"
    },
    "papermill": {
     "duration": 0.038051,
     "end_time": "2025-03-01T00:56:35.427418",
     "exception": false,
     "start_time": "2025-03-01T00:56:35.389367",
     "status": "completed"
    },
    "tags": []
   },
   "outputs": [
    {
     "data": {
      "text/plain": [
       "Material\n",
       "Polyester    75554\n",
       "Leather      69991\n",
       "Nylon        67166\n",
       "Canvas       64793\n",
       "Name: count, dtype: int64"
      ]
     },
     "execution_count": 15,
     "metadata": {},
     "output_type": "execute_result"
    }
   ],
   "source": [
    "unique_Material=df_train_clean['Material'].unique().tolist()\n",
    "df_train_clean['Material'].value_counts()"
   ]
  },
  {
   "cell_type": "code",
   "execution_count": 16,
   "id": "9eec529d",
   "metadata": {
    "execution": {
     "iopub.execute_input": "2025-03-01T00:56:35.442143Z",
     "iopub.status.busy": "2025-03-01T00:56:35.441932Z",
     "iopub.status.idle": "2025-03-01T00:56:35.472689Z",
     "shell.execute_reply": "2025-03-01T00:56:35.471811Z"
    },
    "papermill": {
     "duration": 0.039472,
     "end_time": "2025-03-01T00:56:35.474050",
     "exception": false,
     "start_time": "2025-03-01T00:56:35.434578",
     "status": "completed"
    },
    "tags": []
   },
   "outputs": [
    {
     "data": {
      "text/plain": [
       "Size\n",
       "Medium    97016\n",
       "Large     93798\n",
       "Small     88419\n",
       "Name: count, dtype: int64"
      ]
     },
     "execution_count": 16,
     "metadata": {},
     "output_type": "execute_result"
    }
   ],
   "source": [
    "unique_size=df_train_clean['Size'].unique().tolist()\n",
    "unique_size_counts = df_train_clean['Size'].value_counts()\n",
    "unique_size_counts"
   ]
  },
  {
   "cell_type": "code",
   "execution_count": 17,
   "id": "51b55a6f",
   "metadata": {
    "execution": {
     "iopub.execute_input": "2025-03-01T00:56:35.489443Z",
     "iopub.status.busy": "2025-03-01T00:56:35.489217Z",
     "iopub.status.idle": "2025-03-01T00:56:35.511238Z",
     "shell.execute_reply": "2025-03-01T00:56:35.510419Z"
    },
    "papermill": {
     "duration": 0.031248,
     "end_time": "2025-03-01T00:56:35.512517",
     "exception": false,
     "start_time": "2025-03-01T00:56:35.481269",
     "status": "completed"
    },
    "tags": []
   },
   "outputs": [
    {
     "data": {
      "text/plain": [
       "Style\n",
       "Messenger    95241\n",
       "Tote         92630\n",
       "Backpack     89996\n",
       "Name: count, dtype: int64"
      ]
     },
     "execution_count": 17,
     "metadata": {},
     "output_type": "execute_result"
    }
   ],
   "source": [
    "df_train_clean['Style'].value_counts()"
   ]
  },
  {
   "cell_type": "code",
   "execution_count": 18,
   "id": "1d11b467",
   "metadata": {
    "execution": {
     "iopub.execute_input": "2025-03-01T00:56:35.528016Z",
     "iopub.status.busy": "2025-03-01T00:56:35.527737Z",
     "iopub.status.idle": "2025-03-01T00:56:35.549735Z",
     "shell.execute_reply": "2025-03-01T00:56:35.548983Z"
    },
    "papermill": {
     "duration": 0.030982,
     "end_time": "2025-03-01T00:56:35.551065",
     "exception": false,
     "start_time": "2025-03-01T00:56:35.520083",
     "status": "completed"
    },
    "tags": []
   },
   "outputs": [
    {
     "data": {
      "text/plain": [
       "Color\n",
       "Pink     49203\n",
       "Gray     47903\n",
       "Blue     45731\n",
       "Red      44989\n",
       "Black    44158\n",
       "Green    44154\n",
       "Name: count, dtype: int64"
      ]
     },
     "execution_count": 18,
     "metadata": {},
     "output_type": "execute_result"
    }
   ],
   "source": [
    "df_train_clean['Color'].value_counts()"
   ]
  },
  {
   "cell_type": "markdown",
   "id": "80627513",
   "metadata": {
    "papermill": {
     "duration": 0.007349,
     "end_time": "2025-03-01T00:56:35.566651",
     "exception": false,
     "start_time": "2025-03-01T00:56:35.559302",
     "status": "completed"
    },
    "tags": []
   },
   "source": [
    "Mode imputation for categorical columns"
   ]
  },
  {
   "cell_type": "code",
   "execution_count": 19,
   "id": "b5922443",
   "metadata": {
    "execution": {
     "iopub.execute_input": "2025-03-01T00:56:35.582168Z",
     "iopub.status.busy": "2025-03-01T00:56:35.581951Z",
     "iopub.status.idle": "2025-03-01T00:56:35.747184Z",
     "shell.execute_reply": "2025-03-01T00:56:35.746258Z"
    },
    "papermill": {
     "duration": 0.174035,
     "end_time": "2025-03-01T00:56:35.748386",
     "exception": false,
     "start_time": "2025-03-01T00:56:35.574351",
     "status": "completed"
    },
    "tags": []
   },
   "outputs": [
    {
     "name": "stdout",
     "output_type": "stream",
     "text": [
      "\n",
      "DataFrame after mode imputation:\n"
     ]
    },
    {
     "name": "stderr",
     "output_type": "stream",
     "text": [
      "<ipython-input-19-a77d28e241d9>:7: FutureWarning: A value is trying to be set on a copy of a DataFrame or Series through chained assignment using an inplace method.\n",
      "The behavior will change in pandas 3.0. This inplace method will never work because the intermediate object on which we are setting values always behaves as a copy.\n",
      "\n",
      "For example, when doing 'df[col].method(value, inplace=True)', try using 'df.method({col: value}, inplace=True)' or df[col] = df[col].method(value) instead, to perform the operation inplace on the original object.\n",
      "\n",
      "\n",
      "  df_train_clean[col].fillna(mode_value, inplace=True)\n",
      "<ipython-input-19-a77d28e241d9>:7: SettingWithCopyWarning: \n",
      "A value is trying to be set on a copy of a slice from a DataFrame\n",
      "\n",
      "See the caveats in the documentation: https://pandas.pydata.org/pandas-docs/stable/user_guide/indexing.html#returning-a-view-versus-a-copy\n",
      "  df_train_clean[col].fillna(mode_value, inplace=True)\n"
     ]
    },
    {
     "data": {
      "text/html": [
       "<div>\n",
       "<style scoped>\n",
       "    .dataframe tbody tr th:only-of-type {\n",
       "        vertical-align: middle;\n",
       "    }\n",
       "\n",
       "    .dataframe tbody tr th {\n",
       "        vertical-align: top;\n",
       "    }\n",
       "\n",
       "    .dataframe thead th {\n",
       "        text-align: right;\n",
       "    }\n",
       "</style>\n",
       "<table border=\"1\" class=\"dataframe\">\n",
       "  <thead>\n",
       "    <tr style=\"text-align: right;\">\n",
       "      <th></th>\n",
       "      <th>id</th>\n",
       "      <th>Brand</th>\n",
       "      <th>Material</th>\n",
       "      <th>Size</th>\n",
       "      <th>Compartments</th>\n",
       "      <th>Laptop Compartment</th>\n",
       "      <th>Waterproof</th>\n",
       "      <th>Style</th>\n",
       "      <th>Color</th>\n",
       "      <th>Weight Capacity (kg)</th>\n",
       "      <th>Price</th>\n",
       "    </tr>\n",
       "  </thead>\n",
       "  <tbody>\n",
       "    <tr>\n",
       "      <th>0</th>\n",
       "      <td>0</td>\n",
       "      <td>Jansport</td>\n",
       "      <td>Leather</td>\n",
       "      <td>Medium</td>\n",
       "      <td>7.0</td>\n",
       "      <td>Yes</td>\n",
       "      <td>No</td>\n",
       "      <td>Tote</td>\n",
       "      <td>Black</td>\n",
       "      <td>11.611723</td>\n",
       "      <td>112.15875</td>\n",
       "    </tr>\n",
       "    <tr>\n",
       "      <th>1</th>\n",
       "      <td>1</td>\n",
       "      <td>Jansport</td>\n",
       "      <td>Canvas</td>\n",
       "      <td>Small</td>\n",
       "      <td>10.0</td>\n",
       "      <td>Yes</td>\n",
       "      <td>Yes</td>\n",
       "      <td>Messenger</td>\n",
       "      <td>Green</td>\n",
       "      <td>27.078537</td>\n",
       "      <td>68.88056</td>\n",
       "    </tr>\n",
       "    <tr>\n",
       "      <th>2</th>\n",
       "      <td>2</td>\n",
       "      <td>Under Armour</td>\n",
       "      <td>Leather</td>\n",
       "      <td>Small</td>\n",
       "      <td>2.0</td>\n",
       "      <td>Yes</td>\n",
       "      <td>No</td>\n",
       "      <td>Messenger</td>\n",
       "      <td>Red</td>\n",
       "      <td>16.643760</td>\n",
       "      <td>39.17320</td>\n",
       "    </tr>\n",
       "    <tr>\n",
       "      <th>3</th>\n",
       "      <td>3</td>\n",
       "      <td>Nike</td>\n",
       "      <td>Nylon</td>\n",
       "      <td>Small</td>\n",
       "      <td>8.0</td>\n",
       "      <td>Yes</td>\n",
       "      <td>No</td>\n",
       "      <td>Messenger</td>\n",
       "      <td>Green</td>\n",
       "      <td>12.937220</td>\n",
       "      <td>80.60793</td>\n",
       "    </tr>\n",
       "    <tr>\n",
       "      <th>4</th>\n",
       "      <td>4</td>\n",
       "      <td>Adidas</td>\n",
       "      <td>Canvas</td>\n",
       "      <td>Medium</td>\n",
       "      <td>1.0</td>\n",
       "      <td>Yes</td>\n",
       "      <td>Yes</td>\n",
       "      <td>Messenger</td>\n",
       "      <td>Green</td>\n",
       "      <td>17.749338</td>\n",
       "      <td>86.02312</td>\n",
       "    </tr>\n",
       "    <tr>\n",
       "      <th>...</th>\n",
       "      <td>...</td>\n",
       "      <td>...</td>\n",
       "      <td>...</td>\n",
       "      <td>...</td>\n",
       "      <td>...</td>\n",
       "      <td>...</td>\n",
       "      <td>...</td>\n",
       "      <td>...</td>\n",
       "      <td>...</td>\n",
       "      <td>...</td>\n",
       "      <td>...</td>\n",
       "    </tr>\n",
       "    <tr>\n",
       "      <th>299995</th>\n",
       "      <td>299995</td>\n",
       "      <td>Adidas</td>\n",
       "      <td>Leather</td>\n",
       "      <td>Small</td>\n",
       "      <td>9.0</td>\n",
       "      <td>No</td>\n",
       "      <td>No</td>\n",
       "      <td>Tote</td>\n",
       "      <td>Blue</td>\n",
       "      <td>12.730812</td>\n",
       "      <td>129.99749</td>\n",
       "    </tr>\n",
       "    <tr>\n",
       "      <th>299996</th>\n",
       "      <td>299996</td>\n",
       "      <td>Jansport</td>\n",
       "      <td>Leather</td>\n",
       "      <td>Large</td>\n",
       "      <td>6.0</td>\n",
       "      <td>No</td>\n",
       "      <td>Yes</td>\n",
       "      <td>Tote</td>\n",
       "      <td>Blue</td>\n",
       "      <td>26.633182</td>\n",
       "      <td>19.85819</td>\n",
       "    </tr>\n",
       "    <tr>\n",
       "      <th>299997</th>\n",
       "      <td>299997</td>\n",
       "      <td>Puma</td>\n",
       "      <td>Canvas</td>\n",
       "      <td>Large</td>\n",
       "      <td>9.0</td>\n",
       "      <td>Yes</td>\n",
       "      <td>Yes</td>\n",
       "      <td>Backpack</td>\n",
       "      <td>Pink</td>\n",
       "      <td>11.898250</td>\n",
       "      <td>111.41364</td>\n",
       "    </tr>\n",
       "    <tr>\n",
       "      <th>299998</th>\n",
       "      <td>299998</td>\n",
       "      <td>Adidas</td>\n",
       "      <td>Nylon</td>\n",
       "      <td>Small</td>\n",
       "      <td>1.0</td>\n",
       "      <td>No</td>\n",
       "      <td>Yes</td>\n",
       "      <td>Tote</td>\n",
       "      <td>Pink</td>\n",
       "      <td>6.175738</td>\n",
       "      <td>115.89080</td>\n",
       "    </tr>\n",
       "    <tr>\n",
       "      <th>299999</th>\n",
       "      <td>299999</td>\n",
       "      <td>Under Armour</td>\n",
       "      <td>Canvas</td>\n",
       "      <td>Small</td>\n",
       "      <td>2.0</td>\n",
       "      <td>No</td>\n",
       "      <td>Yes</td>\n",
       "      <td>Backpack</td>\n",
       "      <td>Black</td>\n",
       "      <td>18.568865</td>\n",
       "      <td>26.72762</td>\n",
       "    </tr>\n",
       "  </tbody>\n",
       "</table>\n",
       "<p>285602 rows × 11 columns</p>\n",
       "</div>"
      ],
      "text/plain": [
       "            id         Brand Material    Size  Compartments  \\\n",
       "0            0      Jansport  Leather  Medium           7.0   \n",
       "1            1      Jansport   Canvas   Small          10.0   \n",
       "2            2  Under Armour  Leather   Small           2.0   \n",
       "3            3          Nike    Nylon   Small           8.0   \n",
       "4            4        Adidas   Canvas  Medium           1.0   \n",
       "...        ...           ...      ...     ...           ...   \n",
       "299995  299995        Adidas  Leather   Small           9.0   \n",
       "299996  299996      Jansport  Leather   Large           6.0   \n",
       "299997  299997          Puma   Canvas   Large           9.0   \n",
       "299998  299998        Adidas    Nylon   Small           1.0   \n",
       "299999  299999  Under Armour   Canvas   Small           2.0   \n",
       "\n",
       "       Laptop Compartment Waterproof      Style  Color  Weight Capacity (kg)  \\\n",
       "0                     Yes         No       Tote  Black             11.611723   \n",
       "1                     Yes        Yes  Messenger  Green             27.078537   \n",
       "2                     Yes         No  Messenger    Red             16.643760   \n",
       "3                     Yes         No  Messenger  Green             12.937220   \n",
       "4                     Yes        Yes  Messenger  Green             17.749338   \n",
       "...                   ...        ...        ...    ...                   ...   \n",
       "299995                 No         No       Tote   Blue             12.730812   \n",
       "299996                 No        Yes       Tote   Blue             26.633182   \n",
       "299997                Yes        Yes   Backpack   Pink             11.898250   \n",
       "299998                 No        Yes       Tote   Pink              6.175738   \n",
       "299999                 No        Yes   Backpack  Black             18.568865   \n",
       "\n",
       "            Price  \n",
       "0       112.15875  \n",
       "1        68.88056  \n",
       "2        39.17320  \n",
       "3        80.60793  \n",
       "4        86.02312  \n",
       "...           ...  \n",
       "299995  129.99749  \n",
       "299996   19.85819  \n",
       "299997  111.41364  \n",
       "299998  115.89080  \n",
       "299999   26.72762  \n",
       "\n",
       "[285602 rows x 11 columns]"
      ]
     },
     "execution_count": 19,
     "metadata": {},
     "output_type": "execute_result"
    }
   ],
   "source": [
    "categorical_columns = ['Brand', 'Material', 'Size', 'Style', 'Color']\n",
    "\n",
    "# Apply mode imputation for each categorical column\n",
    "for col in categorical_columns:\n",
    "    # Compute mode; mode() returns a Series so we select the first element [0]\n",
    "    mode_value = df_train_clean[col].mode()[0]\n",
    "    df_train_clean[col].fillna(mode_value, inplace=True)\n",
    "    \n",
    "print(\"\\nDataFrame after mode imputation:\")\n",
    "df_train_clean"
   ]
  },
  {
   "cell_type": "code",
   "execution_count": 20,
   "id": "93e1d088",
   "metadata": {
    "execution": {
     "iopub.execute_input": "2025-03-01T00:56:35.764516Z",
     "iopub.status.busy": "2025-03-01T00:56:35.764279Z",
     "iopub.status.idle": "2025-03-01T00:56:35.870389Z",
     "shell.execute_reply": "2025-03-01T00:56:35.869551Z"
    },
    "papermill": {
     "duration": 0.115645,
     "end_time": "2025-03-01T00:56:35.871809",
     "exception": false,
     "start_time": "2025-03-01T00:56:35.756164",
     "status": "completed"
    },
    "tags": []
   },
   "outputs": [
    {
     "data": {
      "text/plain": [
       "id                       0\n",
       "Brand                    0\n",
       "Material                 0\n",
       "Size                     0\n",
       "Compartments             0\n",
       "Laptop Compartment       0\n",
       "Waterproof               0\n",
       "Style                    0\n",
       "Color                    0\n",
       "Weight Capacity (kg)    49\n",
       "Price                    0\n",
       "dtype: int64"
      ]
     },
     "execution_count": 20,
     "metadata": {},
     "output_type": "execute_result"
    }
   ],
   "source": [
    "df_train_clean.isnull().sum()"
   ]
  },
  {
   "cell_type": "markdown",
   "id": "baf354ad",
   "metadata": {
    "papermill": {
     "duration": 0.007991,
     "end_time": "2025-03-01T00:56:35.887794",
     "exception": false,
     "start_time": "2025-03-01T00:56:35.879803",
     "status": "completed"
    },
    "tags": []
   },
   "source": [
    "Mean Imputation of numerical column"
   ]
  },
  {
   "cell_type": "code",
   "execution_count": 21,
   "id": "70fc78f3",
   "metadata": {
    "execution": {
     "iopub.execute_input": "2025-03-01T00:56:35.903833Z",
     "iopub.status.busy": "2025-03-01T00:56:35.903555Z",
     "iopub.status.idle": "2025-03-01T00:56:35.911026Z",
     "shell.execute_reply": "2025-03-01T00:56:35.910035Z"
    },
    "papermill": {
     "duration": 0.016961,
     "end_time": "2025-03-01T00:56:35.912363",
     "exception": false,
     "start_time": "2025-03-01T00:56:35.895402",
     "status": "completed"
    },
    "tags": []
   },
   "outputs": [
    {
     "name": "stderr",
     "output_type": "stream",
     "text": [
      "<ipython-input-21-80c460f5c43b>:1: FutureWarning: A value is trying to be set on a copy of a DataFrame or Series through chained assignment using an inplace method.\n",
      "The behavior will change in pandas 3.0. This inplace method will never work because the intermediate object on which we are setting values always behaves as a copy.\n",
      "\n",
      "For example, when doing 'df[col].method(value, inplace=True)', try using 'df.method({col: value}, inplace=True)' or df[col] = df[col].method(value) instead, to perform the operation inplace on the original object.\n",
      "\n",
      "\n",
      "  df_train_clean['Weight Capacity (kg)'].fillna(df_train_clean['Weight Capacity (kg)'].mean(),inplace=True)\n",
      "<ipython-input-21-80c460f5c43b>:1: SettingWithCopyWarning: \n",
      "A value is trying to be set on a copy of a slice from a DataFrame\n",
      "\n",
      "See the caveats in the documentation: https://pandas.pydata.org/pandas-docs/stable/user_guide/indexing.html#returning-a-view-versus-a-copy\n",
      "  df_train_clean['Weight Capacity (kg)'].fillna(df_train_clean['Weight Capacity (kg)'].mean(),inplace=True)\n"
     ]
    }
   ],
   "source": [
    "df_train_clean['Weight Capacity (kg)'].fillna(df_train_clean['Weight Capacity (kg)'].mean(),inplace=True)"
   ]
  },
  {
   "cell_type": "code",
   "execution_count": 22,
   "id": "04ea0204",
   "metadata": {
    "execution": {
     "iopub.execute_input": "2025-03-01T00:56:35.929674Z",
     "iopub.status.busy": "2025-03-01T00:56:35.929436Z",
     "iopub.status.idle": "2025-03-01T00:56:36.064026Z",
     "shell.execute_reply": "2025-03-01T00:56:36.063079Z"
    },
    "papermill": {
     "duration": 0.144503,
     "end_time": "2025-03-01T00:56:36.065329",
     "exception": false,
     "start_time": "2025-03-01T00:56:35.920826",
     "status": "completed"
    },
    "tags": []
   },
   "outputs": [
    {
     "data": {
      "text/plain": [
       "id                      0\n",
       "Brand                   0\n",
       "Material                0\n",
       "Size                    0\n",
       "Compartments            0\n",
       "Laptop Compartment      0\n",
       "Waterproof              0\n",
       "Style                   0\n",
       "Color                   0\n",
       "Weight Capacity (kg)    0\n",
       "Price                   0\n",
       "dtype: int64"
      ]
     },
     "execution_count": 22,
     "metadata": {},
     "output_type": "execute_result"
    }
   ],
   "source": [
    "df_train_clean.isnull().sum()"
   ]
  },
  {
   "cell_type": "code",
   "execution_count": 23,
   "id": "ebc4b096",
   "metadata": {
    "execution": {
     "iopub.execute_input": "2025-03-01T00:56:36.081907Z",
     "iopub.status.busy": "2025-03-01T00:56:36.081642Z",
     "iopub.status.idle": "2025-03-01T00:56:36.086023Z",
     "shell.execute_reply": "2025-03-01T00:56:36.085223Z"
    },
    "papermill": {
     "duration": 0.013974,
     "end_time": "2025-03-01T00:56:36.087309",
     "exception": false,
     "start_time": "2025-03-01T00:56:36.073335",
     "status": "completed"
    },
    "tags": []
   },
   "outputs": [
    {
     "data": {
      "text/plain": [
       "(285602, 11)"
      ]
     },
     "execution_count": 23,
     "metadata": {},
     "output_type": "execute_result"
    }
   ],
   "source": [
    "df_train_clean.shape"
   ]
  },
  {
   "cell_type": "code",
   "execution_count": 24,
   "id": "fda3a5ab",
   "metadata": {
    "execution": {
     "iopub.execute_input": "2025-03-01T00:56:36.104017Z",
     "iopub.status.busy": "2025-03-01T00:56:36.103766Z",
     "iopub.status.idle": "2025-03-01T00:56:36.126164Z",
     "shell.execute_reply": "2025-03-01T00:56:36.125303Z"
    },
    "papermill": {
     "duration": 0.032593,
     "end_time": "2025-03-01T00:56:36.128099",
     "exception": false,
     "start_time": "2025-03-01T00:56:36.095506",
     "status": "completed"
    },
    "tags": []
   },
   "outputs": [],
   "source": [
    "X_train = df_train_clean.drop(columns=['Price'])  # 'Price' is the target column\n",
    "y_train = df_train_clean['Price'] "
   ]
  },
  {
   "cell_type": "code",
   "execution_count": 25,
   "id": "0ce45523",
   "metadata": {
    "execution": {
     "iopub.execute_input": "2025-03-01T00:56:36.150360Z",
     "iopub.status.busy": "2025-03-01T00:56:36.150103Z",
     "iopub.status.idle": "2025-03-01T00:56:36.155177Z",
     "shell.execute_reply": "2025-03-01T00:56:36.154274Z"
    },
    "papermill": {
     "duration": 0.019723,
     "end_time": "2025-03-01T00:56:36.156346",
     "exception": false,
     "start_time": "2025-03-01T00:56:36.136623",
     "status": "completed"
    },
    "tags": []
   },
   "outputs": [
    {
     "name": "stdout",
     "output_type": "stream",
     "text": [
      "id                        int64\n",
      "Brand                    object\n",
      "Material                 object\n",
      "Size                     object\n",
      "Compartments            float64\n",
      "Laptop Compartment       object\n",
      "Waterproof               object\n",
      "Style                    object\n",
      "Color                    object\n",
      "Weight Capacity (kg)    float64\n",
      "dtype: object\n"
     ]
    }
   ],
   "source": [
    "print(X_train.dtypes)"
   ]
  },
  {
   "cell_type": "code",
   "execution_count": 26,
   "id": "77cd2ec8",
   "metadata": {
    "execution": {
     "iopub.execute_input": "2025-03-01T00:56:36.173428Z",
     "iopub.status.busy": "2025-03-01T00:56:36.173196Z",
     "iopub.status.idle": "2025-03-01T00:56:38.981507Z",
     "shell.execute_reply": "2025-03-01T00:56:38.980856Z"
    },
    "papermill": {
     "duration": 2.818934,
     "end_time": "2025-03-01T00:56:38.983328",
     "exception": false,
     "start_time": "2025-03-01T00:56:36.164394",
     "status": "completed"
    },
    "tags": []
   },
   "outputs": [
    {
     "data": {
      "text/html": [
       "<style>#sk-container-id-1 {color: black;background-color: white;}#sk-container-id-1 pre{padding: 0;}#sk-container-id-1 div.sk-toggleable {background-color: white;}#sk-container-id-1 label.sk-toggleable__label {cursor: pointer;display: block;width: 100%;margin-bottom: 0;padding: 0.3em;box-sizing: border-box;text-align: center;}#sk-container-id-1 label.sk-toggleable__label-arrow:before {content: \"▸\";float: left;margin-right: 0.25em;color: #696969;}#sk-container-id-1 label.sk-toggleable__label-arrow:hover:before {color: black;}#sk-container-id-1 div.sk-estimator:hover label.sk-toggleable__label-arrow:before {color: black;}#sk-container-id-1 div.sk-toggleable__content {max-height: 0;max-width: 0;overflow: hidden;text-align: left;background-color: #f0f8ff;}#sk-container-id-1 div.sk-toggleable__content pre {margin: 0.2em;color: black;border-radius: 0.25em;background-color: #f0f8ff;}#sk-container-id-1 input.sk-toggleable__control:checked~div.sk-toggleable__content {max-height: 200px;max-width: 100%;overflow: auto;}#sk-container-id-1 input.sk-toggleable__control:checked~label.sk-toggleable__label-arrow:before {content: \"▾\";}#sk-container-id-1 div.sk-estimator input.sk-toggleable__control:checked~label.sk-toggleable__label {background-color: #d4ebff;}#sk-container-id-1 div.sk-label input.sk-toggleable__control:checked~label.sk-toggleable__label {background-color: #d4ebff;}#sk-container-id-1 input.sk-hidden--visually {border: 0;clip: rect(1px 1px 1px 1px);clip: rect(1px, 1px, 1px, 1px);height: 1px;margin: -1px;overflow: hidden;padding: 0;position: absolute;width: 1px;}#sk-container-id-1 div.sk-estimator {font-family: monospace;background-color: #f0f8ff;border: 1px dotted black;border-radius: 0.25em;box-sizing: border-box;margin-bottom: 0.5em;}#sk-container-id-1 div.sk-estimator:hover {background-color: #d4ebff;}#sk-container-id-1 div.sk-parallel-item::after {content: \"\";width: 100%;border-bottom: 1px solid gray;flex-grow: 1;}#sk-container-id-1 div.sk-label:hover label.sk-toggleable__label {background-color: #d4ebff;}#sk-container-id-1 div.sk-serial::before {content: \"\";position: absolute;border-left: 1px solid gray;box-sizing: border-box;top: 0;bottom: 0;left: 50%;z-index: 0;}#sk-container-id-1 div.sk-serial {display: flex;flex-direction: column;align-items: center;background-color: white;padding-right: 0.2em;padding-left: 0.2em;position: relative;}#sk-container-id-1 div.sk-item {position: relative;z-index: 1;}#sk-container-id-1 div.sk-parallel {display: flex;align-items: stretch;justify-content: center;background-color: white;position: relative;}#sk-container-id-1 div.sk-item::before, #sk-container-id-1 div.sk-parallel-item::before {content: \"\";position: absolute;border-left: 1px solid gray;box-sizing: border-box;top: 0;bottom: 0;left: 50%;z-index: -1;}#sk-container-id-1 div.sk-parallel-item {display: flex;flex-direction: column;z-index: 1;position: relative;background-color: white;}#sk-container-id-1 div.sk-parallel-item:first-child::after {align-self: flex-end;width: 50%;}#sk-container-id-1 div.sk-parallel-item:last-child::after {align-self: flex-start;width: 50%;}#sk-container-id-1 div.sk-parallel-item:only-child::after {width: 0;}#sk-container-id-1 div.sk-dashed-wrapped {border: 1px dashed gray;margin: 0 0.4em 0.5em 0.4em;box-sizing: border-box;padding-bottom: 0.4em;background-color: white;}#sk-container-id-1 div.sk-label label {font-family: monospace;font-weight: bold;display: inline-block;line-height: 1.2em;}#sk-container-id-1 div.sk-label-container {text-align: center;}#sk-container-id-1 div.sk-container {/* jupyter's `normalize.less` sets `[hidden] { display: none; }` but bootstrap.min.css set `[hidden] { display: none !important; }` so we also need the `!important` here to be able to override the default hidden behavior on the sphinx rendered scikit-learn.org. See: https://github.com/scikit-learn/scikit-learn/issues/21755 */display: inline-block !important;position: relative;}#sk-container-id-1 div.sk-text-repr-fallback {display: none;}</style><div id=\"sk-container-id-1\" class=\"sk-top-container\"><div class=\"sk-text-repr-fallback\"><pre>XGBRegressor(base_score=None, booster=None, callbacks=None,\n",
       "             colsample_bylevel=None, colsample_bynode=None,\n",
       "             colsample_bytree=None, device=None, early_stopping_rounds=None,\n",
       "             enable_categorical=True, eval_metric=None, feature_types=None,\n",
       "             gamma=None, grow_policy=None, importance_type=None,\n",
       "             interaction_constraints=None, learning_rate=None, max_bin=None,\n",
       "             max_cat_threshold=None, max_cat_to_onehot=None,\n",
       "             max_delta_step=None, max_depth=None, max_leaves=None,\n",
       "             min_child_weight=None, missing=nan, monotone_constraints=None,\n",
       "             multi_strategy=None, n_estimators=None, n_jobs=None,\n",
       "             num_parallel_tree=None, random_state=None, ...)</pre><b>In a Jupyter environment, please rerun this cell to show the HTML representation or trust the notebook. <br />On GitHub, the HTML representation is unable to render, please try loading this page with nbviewer.org.</b></div><div class=\"sk-container\" hidden><div class=\"sk-item\"><div class=\"sk-estimator sk-toggleable\"><input class=\"sk-toggleable__control sk-hidden--visually\" id=\"sk-estimator-id-1\" type=\"checkbox\" checked><label for=\"sk-estimator-id-1\" class=\"sk-toggleable__label sk-toggleable__label-arrow\">XGBRegressor</label><div class=\"sk-toggleable__content\"><pre>XGBRegressor(base_score=None, booster=None, callbacks=None,\n",
       "             colsample_bylevel=None, colsample_bynode=None,\n",
       "             colsample_bytree=None, device=None, early_stopping_rounds=None,\n",
       "             enable_categorical=True, eval_metric=None, feature_types=None,\n",
       "             gamma=None, grow_policy=None, importance_type=None,\n",
       "             interaction_constraints=None, learning_rate=None, max_bin=None,\n",
       "             max_cat_threshold=None, max_cat_to_onehot=None,\n",
       "             max_delta_step=None, max_depth=None, max_leaves=None,\n",
       "             min_child_weight=None, missing=nan, monotone_constraints=None,\n",
       "             multi_strategy=None, n_estimators=None, n_jobs=None,\n",
       "             num_parallel_tree=None, random_state=None, ...)</pre></div></div></div></div></div>"
      ],
      "text/plain": [
       "XGBRegressor(base_score=None, booster=None, callbacks=None,\n",
       "             colsample_bylevel=None, colsample_bynode=None,\n",
       "             colsample_bytree=None, device=None, early_stopping_rounds=None,\n",
       "             enable_categorical=True, eval_metric=None, feature_types=None,\n",
       "             gamma=None, grow_policy=None, importance_type=None,\n",
       "             interaction_constraints=None, learning_rate=None, max_bin=None,\n",
       "             max_cat_threshold=None, max_cat_to_onehot=None,\n",
       "             max_delta_step=None, max_depth=None, max_leaves=None,\n",
       "             min_child_weight=None, missing=nan, monotone_constraints=None,\n",
       "             multi_strategy=None, n_estimators=None, n_jobs=None,\n",
       "             num_parallel_tree=None, random_state=None, ...)"
      ]
     },
     "execution_count": 26,
     "metadata": {},
     "output_type": "execute_result"
    }
   ],
   "source": [
    "import xgboost as xgb\n",
    "\n",
    "# Convert categorical columns to 'category' dtype\n",
    "for col in X_train.select_dtypes(include=['object']).columns:\n",
    "    X_train[col] = X_train[col].astype('category')\n",
    "\n",
    "\n",
    "# Use XGBRegressor instead of XGBClassifier\n",
    "model = xgb.XGBRegressor(enable_categorical=True )\n",
    "model.fit(X_train, y_train)\n"
   ]
  },
  {
   "cell_type": "code",
   "execution_count": 27,
   "id": "85c5702f",
   "metadata": {
    "execution": {
     "iopub.execute_input": "2025-03-01T00:56:39.001298Z",
     "iopub.status.busy": "2025-03-01T00:56:39.000944Z",
     "iopub.status.idle": "2025-03-01T00:56:39.012375Z",
     "shell.execute_reply": "2025-03-01T00:56:39.011634Z"
    },
    "papermill": {
     "duration": 0.021477,
     "end_time": "2025-03-01T00:56:39.013630",
     "exception": false,
     "start_time": "2025-03-01T00:56:38.992153",
     "status": "completed"
    },
    "tags": []
   },
   "outputs": [
    {
     "data": {
      "text/html": [
       "<div>\n",
       "<style scoped>\n",
       "    .dataframe tbody tr th:only-of-type {\n",
       "        vertical-align: middle;\n",
       "    }\n",
       "\n",
       "    .dataframe tbody tr th {\n",
       "        vertical-align: top;\n",
       "    }\n",
       "\n",
       "    .dataframe thead th {\n",
       "        text-align: right;\n",
       "    }\n",
       "</style>\n",
       "<table border=\"1\" class=\"dataframe\">\n",
       "  <thead>\n",
       "    <tr style=\"text-align: right;\">\n",
       "      <th></th>\n",
       "      <th>id</th>\n",
       "      <th>Brand</th>\n",
       "      <th>Material</th>\n",
       "      <th>Size</th>\n",
       "      <th>Compartments</th>\n",
       "      <th>Laptop Compartment</th>\n",
       "      <th>Waterproof</th>\n",
       "      <th>Style</th>\n",
       "      <th>Color</th>\n",
       "      <th>Weight Capacity (kg)</th>\n",
       "    </tr>\n",
       "  </thead>\n",
       "  <tbody>\n",
       "    <tr>\n",
       "      <th>0</th>\n",
       "      <td>300000</td>\n",
       "      <td>Puma</td>\n",
       "      <td>Leather</td>\n",
       "      <td>Small</td>\n",
       "      <td>2.0</td>\n",
       "      <td>No</td>\n",
       "      <td>No</td>\n",
       "      <td>Tote</td>\n",
       "      <td>Green</td>\n",
       "      <td>20.671147</td>\n",
       "    </tr>\n",
       "    <tr>\n",
       "      <th>1</th>\n",
       "      <td>300001</td>\n",
       "      <td>Nike</td>\n",
       "      <td>Canvas</td>\n",
       "      <td>Medium</td>\n",
       "      <td>7.0</td>\n",
       "      <td>No</td>\n",
       "      <td>Yes</td>\n",
       "      <td>Backpack</td>\n",
       "      <td>Green</td>\n",
       "      <td>13.564105</td>\n",
       "    </tr>\n",
       "    <tr>\n",
       "      <th>2</th>\n",
       "      <td>300002</td>\n",
       "      <td>Adidas</td>\n",
       "      <td>Canvas</td>\n",
       "      <td>Large</td>\n",
       "      <td>9.0</td>\n",
       "      <td>No</td>\n",
       "      <td>Yes</td>\n",
       "      <td>Messenger</td>\n",
       "      <td>Blue</td>\n",
       "      <td>11.809799</td>\n",
       "    </tr>\n",
       "    <tr>\n",
       "      <th>3</th>\n",
       "      <td>300003</td>\n",
       "      <td>Adidas</td>\n",
       "      <td>Nylon</td>\n",
       "      <td>Large</td>\n",
       "      <td>1.0</td>\n",
       "      <td>Yes</td>\n",
       "      <td>No</td>\n",
       "      <td>Messenger</td>\n",
       "      <td>Green</td>\n",
       "      <td>18.477036</td>\n",
       "    </tr>\n",
       "    <tr>\n",
       "      <th>4</th>\n",
       "      <td>300004</td>\n",
       "      <td>NaN</td>\n",
       "      <td>Nylon</td>\n",
       "      <td>Large</td>\n",
       "      <td>2.0</td>\n",
       "      <td>Yes</td>\n",
       "      <td>Yes</td>\n",
       "      <td>Tote</td>\n",
       "      <td>Black</td>\n",
       "      <td>9.907953</td>\n",
       "    </tr>\n",
       "  </tbody>\n",
       "</table>\n",
       "</div>"
      ],
      "text/plain": [
       "       id   Brand Material    Size  Compartments Laptop Compartment  \\\n",
       "0  300000    Puma  Leather   Small           2.0                 No   \n",
       "1  300001    Nike   Canvas  Medium           7.0                 No   \n",
       "2  300002  Adidas   Canvas   Large           9.0                 No   \n",
       "3  300003  Adidas    Nylon   Large           1.0                Yes   \n",
       "4  300004     NaN    Nylon   Large           2.0                Yes   \n",
       "\n",
       "  Waterproof      Style  Color  Weight Capacity (kg)  \n",
       "0         No       Tote  Green             20.671147  \n",
       "1        Yes   Backpack  Green             13.564105  \n",
       "2        Yes  Messenger   Blue             11.809799  \n",
       "3         No  Messenger  Green             18.477036  \n",
       "4        Yes       Tote  Black              9.907953  "
      ]
     },
     "execution_count": 27,
     "metadata": {},
     "output_type": "execute_result"
    }
   ],
   "source": [
    "df_test.head(5)"
   ]
  },
  {
   "cell_type": "code",
   "execution_count": 28,
   "id": "fae6db9a",
   "metadata": {
    "execution": {
     "iopub.execute_input": "2025-03-01T00:56:39.031209Z",
     "iopub.status.busy": "2025-03-01T00:56:39.030999Z",
     "iopub.status.idle": "2025-03-01T00:56:39.043013Z",
     "shell.execute_reply": "2025-03-01T00:56:39.042266Z"
    },
    "papermill": {
     "duration": 0.022502,
     "end_time": "2025-03-01T00:56:39.044440",
     "exception": false,
     "start_time": "2025-03-01T00:56:39.021938",
     "status": "completed"
    },
    "tags": []
   },
   "outputs": [
    {
     "data": {
      "text/html": [
       "<div>\n",
       "<style scoped>\n",
       "    .dataframe tbody tr th:only-of-type {\n",
       "        vertical-align: middle;\n",
       "    }\n",
       "\n",
       "    .dataframe tbody tr th {\n",
       "        vertical-align: top;\n",
       "    }\n",
       "\n",
       "    .dataframe thead th {\n",
       "        text-align: right;\n",
       "    }\n",
       "</style>\n",
       "<table border=\"1\" class=\"dataframe\">\n",
       "  <thead>\n",
       "    <tr style=\"text-align: right;\">\n",
       "      <th></th>\n",
       "      <th>id</th>\n",
       "      <th>Brand</th>\n",
       "      <th>Material</th>\n",
       "      <th>Size</th>\n",
       "      <th>Compartments</th>\n",
       "      <th>Laptop Compartment</th>\n",
       "      <th>Waterproof</th>\n",
       "      <th>Style</th>\n",
       "      <th>Color</th>\n",
       "      <th>Weight Capacity (kg)</th>\n",
       "    </tr>\n",
       "  </thead>\n",
       "  <tbody>\n",
       "    <tr>\n",
       "      <th>0</th>\n",
       "      <td>300000</td>\n",
       "      <td>Puma</td>\n",
       "      <td>Leather</td>\n",
       "      <td>Small</td>\n",
       "      <td>2.0</td>\n",
       "      <td>No</td>\n",
       "      <td>No</td>\n",
       "      <td>Tote</td>\n",
       "      <td>Green</td>\n",
       "      <td>20.671147</td>\n",
       "    </tr>\n",
       "    <tr>\n",
       "      <th>1</th>\n",
       "      <td>300001</td>\n",
       "      <td>Nike</td>\n",
       "      <td>Canvas</td>\n",
       "      <td>Medium</td>\n",
       "      <td>7.0</td>\n",
       "      <td>No</td>\n",
       "      <td>Yes</td>\n",
       "      <td>Backpack</td>\n",
       "      <td>Green</td>\n",
       "      <td>13.564105</td>\n",
       "    </tr>\n",
       "    <tr>\n",
       "      <th>2</th>\n",
       "      <td>300002</td>\n",
       "      <td>Adidas</td>\n",
       "      <td>Canvas</td>\n",
       "      <td>Large</td>\n",
       "      <td>9.0</td>\n",
       "      <td>No</td>\n",
       "      <td>Yes</td>\n",
       "      <td>Messenger</td>\n",
       "      <td>Blue</td>\n",
       "      <td>11.809799</td>\n",
       "    </tr>\n",
       "    <tr>\n",
       "      <th>3</th>\n",
       "      <td>300003</td>\n",
       "      <td>Adidas</td>\n",
       "      <td>Nylon</td>\n",
       "      <td>Large</td>\n",
       "      <td>1.0</td>\n",
       "      <td>Yes</td>\n",
       "      <td>No</td>\n",
       "      <td>Messenger</td>\n",
       "      <td>Green</td>\n",
       "      <td>18.477036</td>\n",
       "    </tr>\n",
       "    <tr>\n",
       "      <th>4</th>\n",
       "      <td>300004</td>\n",
       "      <td>NaN</td>\n",
       "      <td>Nylon</td>\n",
       "      <td>Large</td>\n",
       "      <td>2.0</td>\n",
       "      <td>Yes</td>\n",
       "      <td>Yes</td>\n",
       "      <td>Tote</td>\n",
       "      <td>Black</td>\n",
       "      <td>9.907953</td>\n",
       "    </tr>\n",
       "    <tr>\n",
       "      <th>...</th>\n",
       "      <td>...</td>\n",
       "      <td>...</td>\n",
       "      <td>...</td>\n",
       "      <td>...</td>\n",
       "      <td>...</td>\n",
       "      <td>...</td>\n",
       "      <td>...</td>\n",
       "      <td>...</td>\n",
       "      <td>...</td>\n",
       "      <td>...</td>\n",
       "    </tr>\n",
       "    <tr>\n",
       "      <th>199995</th>\n",
       "      <td>499995</td>\n",
       "      <td>Adidas</td>\n",
       "      <td>Canvas</td>\n",
       "      <td>Large</td>\n",
       "      <td>2.0</td>\n",
       "      <td>Yes</td>\n",
       "      <td>No</td>\n",
       "      <td>Messenger</td>\n",
       "      <td>Red</td>\n",
       "      <td>7.383498</td>\n",
       "    </tr>\n",
       "    <tr>\n",
       "      <th>199996</th>\n",
       "      <td>499996</td>\n",
       "      <td>Nike</td>\n",
       "      <td>Polyester</td>\n",
       "      <td>Small</td>\n",
       "      <td>9.0</td>\n",
       "      <td>No</td>\n",
       "      <td>Yes</td>\n",
       "      <td>Messenger</td>\n",
       "      <td>Pink</td>\n",
       "      <td>6.058394</td>\n",
       "    </tr>\n",
       "    <tr>\n",
       "      <th>199997</th>\n",
       "      <td>499997</td>\n",
       "      <td>Jansport</td>\n",
       "      <td>Nylon</td>\n",
       "      <td>Small</td>\n",
       "      <td>9.0</td>\n",
       "      <td>No</td>\n",
       "      <td>Yes</td>\n",
       "      <td>Tote</td>\n",
       "      <td>Green</td>\n",
       "      <td>26.890163</td>\n",
       "    </tr>\n",
       "    <tr>\n",
       "      <th>199998</th>\n",
       "      <td>499998</td>\n",
       "      <td>Puma</td>\n",
       "      <td>Nylon</td>\n",
       "      <td>Large</td>\n",
       "      <td>10.0</td>\n",
       "      <td>Yes</td>\n",
       "      <td>No</td>\n",
       "      <td>Tote</td>\n",
       "      <td>Gray</td>\n",
       "      <td>25.769153</td>\n",
       "    </tr>\n",
       "    <tr>\n",
       "      <th>199999</th>\n",
       "      <td>499999</td>\n",
       "      <td>Under Armour</td>\n",
       "      <td>Leather</td>\n",
       "      <td>Medium</td>\n",
       "      <td>8.0</td>\n",
       "      <td>Yes</td>\n",
       "      <td>Yes</td>\n",
       "      <td>Messenger</td>\n",
       "      <td>Pink</td>\n",
       "      <td>29.175026</td>\n",
       "    </tr>\n",
       "  </tbody>\n",
       "</table>\n",
       "<p>200000 rows × 10 columns</p>\n",
       "</div>"
      ],
      "text/plain": [
       "            id         Brand   Material    Size  Compartments  \\\n",
       "0       300000          Puma    Leather   Small           2.0   \n",
       "1       300001          Nike     Canvas  Medium           7.0   \n",
       "2       300002        Adidas     Canvas   Large           9.0   \n",
       "3       300003        Adidas      Nylon   Large           1.0   \n",
       "4       300004           NaN      Nylon   Large           2.0   \n",
       "...        ...           ...        ...     ...           ...   \n",
       "199995  499995        Adidas     Canvas   Large           2.0   \n",
       "199996  499996          Nike  Polyester   Small           9.0   \n",
       "199997  499997      Jansport      Nylon   Small           9.0   \n",
       "199998  499998          Puma      Nylon   Large          10.0   \n",
       "199999  499999  Under Armour    Leather  Medium           8.0   \n",
       "\n",
       "       Laptop Compartment Waterproof      Style  Color  Weight Capacity (kg)  \n",
       "0                      No         No       Tote  Green             20.671147  \n",
       "1                      No        Yes   Backpack  Green             13.564105  \n",
       "2                      No        Yes  Messenger   Blue             11.809799  \n",
       "3                     Yes         No  Messenger  Green             18.477036  \n",
       "4                     Yes        Yes       Tote  Black              9.907953  \n",
       "...                   ...        ...        ...    ...                   ...  \n",
       "199995                Yes         No  Messenger    Red              7.383498  \n",
       "199996                 No        Yes  Messenger   Pink              6.058394  \n",
       "199997                 No        Yes       Tote  Green             26.890163  \n",
       "199998                Yes         No       Tote   Gray             25.769153  \n",
       "199999                Yes        Yes  Messenger   Pink             29.175026  \n",
       "\n",
       "[200000 rows x 10 columns]"
      ]
     },
     "execution_count": 28,
     "metadata": {},
     "output_type": "execute_result"
    }
   ],
   "source": [
    "df_test"
   ]
  },
  {
   "cell_type": "code",
   "execution_count": 29,
   "id": "a966370f",
   "metadata": {
    "execution": {
     "iopub.execute_input": "2025-03-01T00:56:39.062345Z",
     "iopub.status.busy": "2025-03-01T00:56:39.062113Z",
     "iopub.status.idle": "2025-03-01T00:56:39.126032Z",
     "shell.execute_reply": "2025-03-01T00:56:39.125364Z"
    },
    "papermill": {
     "duration": 0.074397,
     "end_time": "2025-03-01T00:56:39.127360",
     "exception": false,
     "start_time": "2025-03-01T00:56:39.052963",
     "status": "completed"
    },
    "tags": []
   },
   "outputs": [
    {
     "data": {
      "text/plain": [
       "id                         0\n",
       "Brand                   6227\n",
       "Material                5613\n",
       "Size                    4381\n",
       "Compartments               0\n",
       "Laptop Compartment      4962\n",
       "Waterproof              4811\n",
       "Style                   5153\n",
       "Color                   6785\n",
       "Weight Capacity (kg)      77\n",
       "dtype: int64"
      ]
     },
     "execution_count": 29,
     "metadata": {},
     "output_type": "execute_result"
    }
   ],
   "source": [
    "df_test.isnull().sum()"
   ]
  },
  {
   "cell_type": "code",
   "execution_count": 30,
   "id": "97ac6771",
   "metadata": {
    "execution": {
     "iopub.execute_input": "2025-03-01T00:56:39.145142Z",
     "iopub.status.busy": "2025-03-01T00:56:39.144912Z",
     "iopub.status.idle": "2025-03-01T00:56:39.303882Z",
     "shell.execute_reply": "2025-03-01T00:56:39.302943Z"
    },
    "papermill": {
     "duration": 0.169624,
     "end_time": "2025-03-01T00:56:39.305394",
     "exception": false,
     "start_time": "2025-03-01T00:56:39.135770",
     "status": "completed"
    },
    "tags": []
   },
   "outputs": [
    {
     "name": "stdout",
     "output_type": "stream",
     "text": [
      "\n",
      "DataFrame after mode imputation:\n"
     ]
    },
    {
     "name": "stderr",
     "output_type": "stream",
     "text": [
      "<ipython-input-30-6a01f1d69801>:7: FutureWarning: A value is trying to be set on a copy of a DataFrame or Series through chained assignment using an inplace method.\n",
      "The behavior will change in pandas 3.0. This inplace method will never work because the intermediate object on which we are setting values always behaves as a copy.\n",
      "\n",
      "For example, when doing 'df[col].method(value, inplace=True)', try using 'df.method({col: value}, inplace=True)' or df[col] = df[col].method(value) instead, to perform the operation inplace on the original object.\n",
      "\n",
      "\n",
      "  df_test_clean[col].fillna(mode_value, inplace=True)\n"
     ]
    },
    {
     "data": {
      "text/html": [
       "<div>\n",
       "<style scoped>\n",
       "    .dataframe tbody tr th:only-of-type {\n",
       "        vertical-align: middle;\n",
       "    }\n",
       "\n",
       "    .dataframe tbody tr th {\n",
       "        vertical-align: top;\n",
       "    }\n",
       "\n",
       "    .dataframe thead th {\n",
       "        text-align: right;\n",
       "    }\n",
       "</style>\n",
       "<table border=\"1\" class=\"dataframe\">\n",
       "  <thead>\n",
       "    <tr style=\"text-align: right;\">\n",
       "      <th></th>\n",
       "      <th>id</th>\n",
       "      <th>Brand</th>\n",
       "      <th>Material</th>\n",
       "      <th>Size</th>\n",
       "      <th>Compartments</th>\n",
       "      <th>Laptop Compartment</th>\n",
       "      <th>Waterproof</th>\n",
       "      <th>Style</th>\n",
       "      <th>Color</th>\n",
       "      <th>Weight Capacity (kg)</th>\n",
       "    </tr>\n",
       "  </thead>\n",
       "  <tbody>\n",
       "    <tr>\n",
       "      <th>0</th>\n",
       "      <td>300000</td>\n",
       "      <td>Puma</td>\n",
       "      <td>Leather</td>\n",
       "      <td>Small</td>\n",
       "      <td>2.0</td>\n",
       "      <td>No</td>\n",
       "      <td>No</td>\n",
       "      <td>Tote</td>\n",
       "      <td>Green</td>\n",
       "      <td>20.671147</td>\n",
       "    </tr>\n",
       "    <tr>\n",
       "      <th>1</th>\n",
       "      <td>300001</td>\n",
       "      <td>Nike</td>\n",
       "      <td>Canvas</td>\n",
       "      <td>Medium</td>\n",
       "      <td>7.0</td>\n",
       "      <td>No</td>\n",
       "      <td>Yes</td>\n",
       "      <td>Backpack</td>\n",
       "      <td>Green</td>\n",
       "      <td>13.564105</td>\n",
       "    </tr>\n",
       "    <tr>\n",
       "      <th>2</th>\n",
       "      <td>300002</td>\n",
       "      <td>Adidas</td>\n",
       "      <td>Canvas</td>\n",
       "      <td>Large</td>\n",
       "      <td>9.0</td>\n",
       "      <td>No</td>\n",
       "      <td>Yes</td>\n",
       "      <td>Messenger</td>\n",
       "      <td>Blue</td>\n",
       "      <td>11.809799</td>\n",
       "    </tr>\n",
       "    <tr>\n",
       "      <th>3</th>\n",
       "      <td>300003</td>\n",
       "      <td>Adidas</td>\n",
       "      <td>Nylon</td>\n",
       "      <td>Large</td>\n",
       "      <td>1.0</td>\n",
       "      <td>Yes</td>\n",
       "      <td>No</td>\n",
       "      <td>Messenger</td>\n",
       "      <td>Green</td>\n",
       "      <td>18.477036</td>\n",
       "    </tr>\n",
       "    <tr>\n",
       "      <th>4</th>\n",
       "      <td>300004</td>\n",
       "      <td>Adidas</td>\n",
       "      <td>Nylon</td>\n",
       "      <td>Large</td>\n",
       "      <td>2.0</td>\n",
       "      <td>Yes</td>\n",
       "      <td>Yes</td>\n",
       "      <td>Tote</td>\n",
       "      <td>Black</td>\n",
       "      <td>9.907953</td>\n",
       "    </tr>\n",
       "    <tr>\n",
       "      <th>...</th>\n",
       "      <td>...</td>\n",
       "      <td>...</td>\n",
       "      <td>...</td>\n",
       "      <td>...</td>\n",
       "      <td>...</td>\n",
       "      <td>...</td>\n",
       "      <td>...</td>\n",
       "      <td>...</td>\n",
       "      <td>...</td>\n",
       "      <td>...</td>\n",
       "    </tr>\n",
       "    <tr>\n",
       "      <th>199995</th>\n",
       "      <td>499995</td>\n",
       "      <td>Adidas</td>\n",
       "      <td>Canvas</td>\n",
       "      <td>Large</td>\n",
       "      <td>2.0</td>\n",
       "      <td>Yes</td>\n",
       "      <td>No</td>\n",
       "      <td>Messenger</td>\n",
       "      <td>Red</td>\n",
       "      <td>7.383498</td>\n",
       "    </tr>\n",
       "    <tr>\n",
       "      <th>199996</th>\n",
       "      <td>499996</td>\n",
       "      <td>Nike</td>\n",
       "      <td>Polyester</td>\n",
       "      <td>Small</td>\n",
       "      <td>9.0</td>\n",
       "      <td>No</td>\n",
       "      <td>Yes</td>\n",
       "      <td>Messenger</td>\n",
       "      <td>Pink</td>\n",
       "      <td>6.058394</td>\n",
       "    </tr>\n",
       "    <tr>\n",
       "      <th>199997</th>\n",
       "      <td>499997</td>\n",
       "      <td>Jansport</td>\n",
       "      <td>Nylon</td>\n",
       "      <td>Small</td>\n",
       "      <td>9.0</td>\n",
       "      <td>No</td>\n",
       "      <td>Yes</td>\n",
       "      <td>Tote</td>\n",
       "      <td>Green</td>\n",
       "      <td>26.890163</td>\n",
       "    </tr>\n",
       "    <tr>\n",
       "      <th>199998</th>\n",
       "      <td>499998</td>\n",
       "      <td>Puma</td>\n",
       "      <td>Nylon</td>\n",
       "      <td>Large</td>\n",
       "      <td>10.0</td>\n",
       "      <td>Yes</td>\n",
       "      <td>No</td>\n",
       "      <td>Tote</td>\n",
       "      <td>Gray</td>\n",
       "      <td>25.769153</td>\n",
       "    </tr>\n",
       "    <tr>\n",
       "      <th>199999</th>\n",
       "      <td>499999</td>\n",
       "      <td>Under Armour</td>\n",
       "      <td>Leather</td>\n",
       "      <td>Medium</td>\n",
       "      <td>8.0</td>\n",
       "      <td>Yes</td>\n",
       "      <td>Yes</td>\n",
       "      <td>Messenger</td>\n",
       "      <td>Pink</td>\n",
       "      <td>29.175026</td>\n",
       "    </tr>\n",
       "  </tbody>\n",
       "</table>\n",
       "<p>200000 rows × 10 columns</p>\n",
       "</div>"
      ],
      "text/plain": [
       "            id         Brand   Material    Size  Compartments  \\\n",
       "0       300000          Puma    Leather   Small           2.0   \n",
       "1       300001          Nike     Canvas  Medium           7.0   \n",
       "2       300002        Adidas     Canvas   Large           9.0   \n",
       "3       300003        Adidas      Nylon   Large           1.0   \n",
       "4       300004        Adidas      Nylon   Large           2.0   \n",
       "...        ...           ...        ...     ...           ...   \n",
       "199995  499995        Adidas     Canvas   Large           2.0   \n",
       "199996  499996          Nike  Polyester   Small           9.0   \n",
       "199997  499997      Jansport      Nylon   Small           9.0   \n",
       "199998  499998          Puma      Nylon   Large          10.0   \n",
       "199999  499999  Under Armour    Leather  Medium           8.0   \n",
       "\n",
       "       Laptop Compartment Waterproof      Style  Color  Weight Capacity (kg)  \n",
       "0                      No         No       Tote  Green             20.671147  \n",
       "1                      No        Yes   Backpack  Green             13.564105  \n",
       "2                      No        Yes  Messenger   Blue             11.809799  \n",
       "3                     Yes         No  Messenger  Green             18.477036  \n",
       "4                     Yes        Yes       Tote  Black              9.907953  \n",
       "...                   ...        ...        ...    ...                   ...  \n",
       "199995                Yes         No  Messenger    Red              7.383498  \n",
       "199996                 No        Yes  Messenger   Pink              6.058394  \n",
       "199997                 No        Yes       Tote  Green             26.890163  \n",
       "199998                Yes         No       Tote   Gray             25.769153  \n",
       "199999                Yes        Yes  Messenger   Pink             29.175026  \n",
       "\n",
       "[200000 rows x 10 columns]"
      ]
     },
     "execution_count": 30,
     "metadata": {},
     "output_type": "execute_result"
    }
   ],
   "source": [
    "categorical_columns = ['Brand', 'Material', 'Size', 'Style', 'Color', 'Waterproof','Laptop Compartment']\n",
    "df_test_clean=df_test\n",
    "# Apply mode imputation for each categorical column\n",
    "for col in categorical_columns:\n",
    "    # Compute mode; mode() returns a Series so we select the first element [0]\n",
    "    mode_value = df_test[col].mode()[0]\n",
    "    df_test_clean[col].fillna(mode_value, inplace=True)\n",
    "    \n",
    "print(\"\\nDataFrame after mode imputation:\")\n",
    "df_test_clean"
   ]
  },
  {
   "cell_type": "code",
   "execution_count": 31,
   "id": "06a1f5af",
   "metadata": {
    "execution": {
     "iopub.execute_input": "2025-03-01T00:56:39.325332Z",
     "iopub.status.busy": "2025-03-01T00:56:39.325110Z",
     "iopub.status.idle": "2025-03-01T00:56:39.392112Z",
     "shell.execute_reply": "2025-03-01T00:56:39.391384Z"
    },
    "papermill": {
     "duration": 0.077797,
     "end_time": "2025-03-01T00:56:39.393460",
     "exception": false,
     "start_time": "2025-03-01T00:56:39.315663",
     "status": "completed"
    },
    "tags": []
   },
   "outputs": [
    {
     "data": {
      "text/plain": [
       "id                       0\n",
       "Brand                    0\n",
       "Material                 0\n",
       "Size                     0\n",
       "Compartments             0\n",
       "Laptop Compartment       0\n",
       "Waterproof               0\n",
       "Style                    0\n",
       "Color                    0\n",
       "Weight Capacity (kg)    77\n",
       "dtype: int64"
      ]
     },
     "execution_count": 31,
     "metadata": {},
     "output_type": "execute_result"
    }
   ],
   "source": [
    "df_test_clean.isnull().sum()"
   ]
  },
  {
   "cell_type": "code",
   "execution_count": 32,
   "id": "4e6328d7",
   "metadata": {
    "execution": {
     "iopub.execute_input": "2025-03-01T00:56:39.412937Z",
     "iopub.status.busy": "2025-03-01T00:56:39.412672Z",
     "iopub.status.idle": "2025-03-01T00:56:39.418934Z",
     "shell.execute_reply": "2025-03-01T00:56:39.417822Z"
    },
    "papermill": {
     "duration": 0.017175,
     "end_time": "2025-03-01T00:56:39.420148",
     "exception": false,
     "start_time": "2025-03-01T00:56:39.402973",
     "status": "completed"
    },
    "tags": []
   },
   "outputs": [
    {
     "name": "stderr",
     "output_type": "stream",
     "text": [
      "<ipython-input-32-2cc8308fa6d9>:2: FutureWarning: A value is trying to be set on a copy of a DataFrame or Series through chained assignment using an inplace method.\n",
      "The behavior will change in pandas 3.0. This inplace method will never work because the intermediate object on which we are setting values always behaves as a copy.\n",
      "\n",
      "For example, when doing 'df[col].method(value, inplace=True)', try using 'df.method({col: value}, inplace=True)' or df[col] = df[col].method(value) instead, to perform the operation inplace on the original object.\n",
      "\n",
      "\n",
      "  df_test_clean['Weight Capacity (kg)'].fillna(mean_value, inplace=True)\n"
     ]
    }
   ],
   "source": [
    "mean_value = df_test_clean['Weight Capacity (kg)'].mean()\n",
    "df_test_clean['Weight Capacity (kg)'].fillna(mean_value, inplace=True)\n"
   ]
  },
  {
   "cell_type": "code",
   "execution_count": 33,
   "id": "ce291c48",
   "metadata": {
    "execution": {
     "iopub.execute_input": "2025-03-01T00:56:39.439237Z",
     "iopub.status.busy": "2025-03-01T00:56:39.439030Z",
     "iopub.status.idle": "2025-03-01T00:56:39.504649Z",
     "shell.execute_reply": "2025-03-01T00:56:39.503908Z"
    },
    "papermill": {
     "duration": 0.076457,
     "end_time": "2025-03-01T00:56:39.505839",
     "exception": false,
     "start_time": "2025-03-01T00:56:39.429382",
     "status": "completed"
    },
    "tags": []
   },
   "outputs": [
    {
     "data": {
      "text/plain": [
       "id                      0\n",
       "Brand                   0\n",
       "Material                0\n",
       "Size                    0\n",
       "Compartments            0\n",
       "Laptop Compartment      0\n",
       "Waterproof              0\n",
       "Style                   0\n",
       "Color                   0\n",
       "Weight Capacity (kg)    0\n",
       "dtype: int64"
      ]
     },
     "execution_count": 33,
     "metadata": {},
     "output_type": "execute_result"
    }
   ],
   "source": [
    "df_test_clean.isnull().sum()"
   ]
  },
  {
   "cell_type": "code",
   "execution_count": 34,
   "id": "adc365a5",
   "metadata": {
    "execution": {
     "iopub.execute_input": "2025-03-01T00:56:39.524958Z",
     "iopub.status.busy": "2025-03-01T00:56:39.524686Z",
     "iopub.status.idle": "2025-03-01T00:56:39.527599Z",
     "shell.execute_reply": "2025-03-01T00:56:39.526978Z"
    },
    "papermill": {
     "duration": 0.013851,
     "end_time": "2025-03-01T00:56:39.528851",
     "exception": false,
     "start_time": "2025-03-01T00:56:39.515000",
     "status": "completed"
    },
    "tags": []
   },
   "outputs": [],
   "source": [
    "X_test = df_test_clean"
   ]
  },
  {
   "cell_type": "code",
   "execution_count": 35,
   "id": "439a78ef",
   "metadata": {
    "execution": {
     "iopub.execute_input": "2025-03-01T00:56:39.547955Z",
     "iopub.status.busy": "2025-03-01T00:56:39.547669Z",
     "iopub.status.idle": "2025-03-01T00:56:39.937083Z",
     "shell.execute_reply": "2025-03-01T00:56:39.934947Z"
    },
    "papermill": {
     "duration": 0.40111,
     "end_time": "2025-03-01T00:56:39.938935",
     "exception": false,
     "start_time": "2025-03-01T00:56:39.537825",
     "status": "completed"
    },
    "tags": []
   },
   "outputs": [
    {
     "name": "stdout",
     "output_type": "stream",
     "text": [
      "[95.26662  77.331635 82.593285 92.90221  78.60492  82.105644 85.42482\n",
      " 80.7896   86.514854 77.338776]\n"
     ]
    }
   ],
   "source": [
    "import xgboost as xgb\n",
    "import pandas as pd\n",
    "import numpy as np\n",
    "from sklearn.metrics import mean_squared_error\n",
    "\n",
    "# Ensure categorical columns in df_test match training data\n",
    "for col in df_test.select_dtypes(include=['object']).columns:\n",
    "    df_test[col] = df_test[col].astype('category')  # Convert to category dtype\n",
    "\n",
    "# Predict using the trained XGBoost model\n",
    "y_pred = model.predict(df_test)\n",
    "\n",
    "# Display some predictions\n",
    "print(y_pred[:10])\n"
   ]
  },
  {
   "cell_type": "code",
   "execution_count": 36,
   "id": "a02a9202",
   "metadata": {
    "execution": {
     "iopub.execute_input": "2025-03-01T00:56:39.960577Z",
     "iopub.status.busy": "2025-03-01T00:56:39.960329Z",
     "iopub.status.idle": "2025-03-01T00:56:40.206722Z",
     "shell.execute_reply": "2025-03-01T00:56:40.205734Z"
    },
    "papermill": {
     "duration": 0.257819,
     "end_time": "2025-03-01T00:56:40.208352",
     "exception": false,
     "start_time": "2025-03-01T00:56:39.950533",
     "status": "completed"
    },
    "tags": []
   },
   "outputs": [
    {
     "name": "stdout",
     "output_type": "stream",
     "text": [
      "Predictions with IDs saved to predictions_with_ids.csv successfully! ✅\n"
     ]
    }
   ],
   "source": [
    "# Assuming df_test has an index or an ID column\n",
    "df_predictions = pd.DataFrame({\n",
    "    'ID': df_test.index,  # Change 'ID' if you have a specific column\n",
    "    'Predicted_Values': y_pred\n",
    "})\n",
    "\n",
    "# Save to CSV\n",
    "df_predictions.to_csv('predictions_with_ids.csv', index=False)\n",
    "\n",
    "print(\"Predictions with IDs saved to predictions_with_ids.csv successfully! ✅\")\n"
   ]
  }
 ],
 "metadata": {
  "kaggle": {
   "accelerator": "gpu",
   "dataSources": [
    {
     "databundleVersionId": 10995111,
     "sourceId": 90274,
     "sourceType": "competition"
    }
   ],
   "dockerImageVersionId": 30886,
   "isGpuEnabled": true,
   "isInternetEnabled": true,
   "language": "python",
   "sourceType": "notebook"
  },
  "kernelspec": {
   "display_name": "Python 3",
   "language": "python",
   "name": "python3"
  },
  "language_info": {
   "codemirror_mode": {
    "name": "ipython",
    "version": 3
   },
   "file_extension": ".py",
   "mimetype": "text/x-python",
   "name": "python",
   "nbconvert_exporter": "python",
   "pygments_lexer": "ipython3",
   "version": "3.10.12"
  },
  "papermill": {
   "default_parameters": {},
   "duration": 10.518718,
   "end_time": "2025-03-01T00:56:40.737455",
   "environment_variables": {},
   "exception": null,
   "input_path": "__notebook__.ipynb",
   "output_path": "__notebook__.ipynb",
   "parameters": {},
   "start_time": "2025-03-01T00:56:30.218737",
   "version": "2.6.0"
  }
 },
 "nbformat": 4,
 "nbformat_minor": 5
}
